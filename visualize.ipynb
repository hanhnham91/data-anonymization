{
 "cells": [
  {
   "cell_type": "code",
   "execution_count": null,
   "metadata": {},
   "outputs": [],
   "source": [
    "from operator import sub\n",
    "import os\n",
    "import numpy as np\n",
    "import matplotlib.pyplot as plt\n",
    "from argparse import Namespace\n",
    "from Utils.PySqlite import *\n",
    "from myconfig import *\n",
    "import sys\n",
    "module_path = os.path.abspath(os.path.join('..'))\n",
    "if module_path not in sys.path:\n",
    "    sys.path.append(module_path)\n"
   ]
  },
  {
   "cell_type": "code",
   "execution_count": null,
   "metadata": {},
   "outputs": [],
   "source": [
    "methods = ['mondrian', 'classic_mondrian', 'topdown']  # ['cluster', 'datafly']\n",
    "dataset = ['adult', 'cahousing', 'cmc', 'mgm', 'informs']  # italia\n",
    "metrics = ['ncp', 'cav', 'dm']\n",
    "lcolors = ['orange', 'deepskyblue', 'limegreen', 'magenta']\n",
    "metric_names = [\n",
    "    'Normalized\\nCertainty\\n(lower is better)',\n",
    "    'Average\\nEquivalence\\n(lower is better)',\n",
    "    'Discernibility\\nMetric\\n(lower is better)']\n",
    "label_x = dataset\n",
    "label_y = metric_names\n",
    "figname = 'data/result/plot_eval'\n"
   ]
  },
  {
   "cell_type": "code",
   "execution_count": null,
   "metadata": {},
   "outputs": [],
   "source": [
    "conn = CreateConnection(DATABASE_PATH)\n",
    "with conn:\n",
    "    df = Find(conn)\n",
    "df.head()"
   ]
  },
  {
   "cell_type": "code",
   "execution_count": null,
   "metadata": {},
   "outputs": [],
   "source": [
    "result = np.genfromtxt('metric_result', names=[\n",
    "                       'data', 'method', 'k', 'time','lrp', 'nrp', 'drp','cavc'], dtype=None, encoding=None)\n",
    "print(result)\n",
    "raise\n",
    "fig, axis = plt.subplots(\n",
    "    nrows=len(metrics), ncols=len(dataset), figsize=(35, 30))\n",
    "\n",
    "for row, metric in enumerate(metrics):\n",
    "    for col, data in enumerate(dataset):\n",
    "        data = data.encode('utf-8')\n",
    "        sub_data = result[(data == result['data'])]\n",
    "        for i, method in enumerate(methods):\n",
    "            method = method.encode('utf-8')\n",
    "            sub = sub_data[(method == sub_data['method'])]\n",
    "            axis[row, col].plot(\n",
    "                sub['k'], sub[metric], color=lcolors[i], label=sub['method'][0].decode('utf-8'))\n",
    "\n",
    "labels_handles = {\n",
    "    label: handle for ax in fig.axes for handle, label in zip(*ax.get_legend_handles_labels())\n",
    "}\n",
    "\n",
    "fig.legend(\n",
    "    labels_handles.values(),\n",
    "    labels_handles.keys(),\n",
    "    loc='upper center',\n",
    "    fontsize=30,\n",
    "    ncol=len(labels_handles.values()))\n",
    "\n",
    "for ax, col in zip(axis[0], label_x):\n",
    "    ax.set_title(col.upper(), size=20)\n",
    "\n",
    "for ax in axis[-1]:\n",
    "    ax.set_xlabel('k', size=20)\n",
    "\n",
    "for ax, row in zip(axis[:, 0], label_y):\n",
    "    ax.set_ylabel(row, size=30)\n",
    "    ax.get_yaxis().set_label_coords(-0.2, 0.5)\n",
    "\n",
    "plt.subplots_adjust(0.075, 0.05, 0.97, 0.95, 0.2, 0.25)\n",
    "plt.savefig(figname)\n",
    "plt.show()\n"
   ]
  }
 ],
 "metadata": {
  "kernelspec": {
   "display_name": "Python 3",
   "language": "python",
   "name": "python3"
  },
  "language_info": {
   "codemirror_mode": {
    "name": "ipython",
    "version": 3
   },
   "file_extension": ".py",
   "mimetype": "text/x-python",
   "name": "python",
   "nbconvert_exporter": "python",
   "pygments_lexer": "ipython3",
   "version": "3.11.2"
  },
  "orig_nbformat": 4
 },
 "nbformat": 4,
 "nbformat_minor": 2
}
